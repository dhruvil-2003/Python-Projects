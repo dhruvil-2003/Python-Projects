{
 "cells": [
  {
   "cell_type": "code",
   "execution_count": null,
   "id": "8c37adc5-83ff-4d17-a668-047819512eca",
   "metadata": {},
   "outputs": [],
   "source": [
    "import numpy as np\n",
    "import cv2\n",
    "import imutils \n",
    "import datetime\n",
    "\n",
    "gun_cascade = cv2.CascadeClassifier('cascade.xml')\n",
    "camera = cv2.VideoCapture(0)\n",
    "\n",
    "firstFrame = None\n",
    "gun_exist = None\n",
    "\n",
    "while True:\n",
    "    ret,frame = camera.read()\n",
    "    frame = imutils.resize(frame,width = 500)\n",
    "    gray = cv2.cvtColor(frame, cv2.COLOR_BGR2GRAY)\n",
    "    gun = gun_cascade.detectMultiScale(gray,1.3,5,minSize=(100,100))\n",
    "    if len(gun) >0:\n",
    "        gun_exist = True\n",
    "    for(x,y,w,h) in gun:\n",
    "        frame = cv2.rectangle(frame,(x,y),(x+w,y+h),(255,0,0),2)\n",
    "        roi_gray = gray[y : y+h, x : x+w]\n",
    "        roi_color = frame[y : y+h,x : x+w]\n",
    "    if firstFrame is None:\n",
    "        firstFrame = gray\n",
    "        continue\n",
    "    cv2.imshow(\"Security feed\", frame)\n",
    "    key = cv2.waitKey(1) & 0xFF\n",
    "    if key == ord('q'):\n",
    "        break\n",
    "\n",
    "if gun_exist:\n",
    "    print(\"Gun detected!\")\n",
    "else:\n",
    "    print(\"Gun didn't detected!\")\n",
    "\n",
    "camera.release()\n",
    "cv2.destroyAllWindows()\n"
   ]
  },
  {
   "cell_type": "code",
   "execution_count": null,
   "id": "20d41486-2012-4db9-9f87-3cc7b6739087",
   "metadata": {},
   "outputs": [],
   "source": []
  },
  {
   "cell_type": "code",
   "execution_count": null,
   "id": "f30e3153-11a7-429a-aca1-fa1adf0b349c",
   "metadata": {},
   "outputs": [],
   "source": []
  }
 ],
 "metadata": {
  "kernelspec": {
   "display_name": "Python 3 (ipykernel)",
   "language": "python",
   "name": "python3"
  },
  "language_info": {
   "codemirror_mode": {
    "name": "ipython",
    "version": 3
   },
   "file_extension": ".py",
   "mimetype": "text/x-python",
   "name": "python",
   "nbconvert_exporter": "python",
   "pygments_lexer": "ipython3",
   "version": "3.12.4"
  }
 },
 "nbformat": 4,
 "nbformat_minor": 5
}
